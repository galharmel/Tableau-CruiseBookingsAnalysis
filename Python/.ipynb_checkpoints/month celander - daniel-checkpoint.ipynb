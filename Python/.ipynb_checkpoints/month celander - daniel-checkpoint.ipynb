{
 "cells": [
  {
   "cell_type": "markdown",
   "id": "6459f520",
   "metadata": {},
   "source": [
    "**אימפורטים של קיצורים לסיפריות נחוצות לעבודה עם מאגרי נתונים ויצירת פלוטים ויומן חודש**"
   ]
  },
  {
   "cell_type": "code",
   "execution_count": 8,
   "id": "23038a60",
   "metadata": {
    "scrolled": false
   },
   "outputs": [
    {
     "name": "stdout",
     "output_type": "stream",
     "text": [
      "   cruise cancel   TTT       Y     M     W  DOM  weekendnights  weeknights  \\\n",
      "0  Deluxe     no  69.0  2015.0  July  27.0  2.0            2.0         4.0   \n",
      "1  Deluxe    yes  45.0  2015.0  July  27.0  2.0            1.0         3.0   \n",
      "2  Deluxe    yes  40.0  2015.0  July  27.0  2.0            1.0         3.0   \n",
      "3  Deluxe     no  15.0  2015.0  July  27.0  2.0            1.0         3.0   \n",
      "4  Deluxe     no  36.0  2015.0  July  27.0  2.0            1.0         3.0   \n",
      "\n",
      "   ADLT  ...     deposit  agentNr CMPY waiting         CT DailyAVG  ExtraLock  \\\n",
      "0   2.0  ...  No Deposit    175.0  NaN     0.0  Transient     65.5        0.0   \n",
      "1   3.0  ...  No Deposit    241.0  NaN     0.0  Transient    108.8        0.0   \n",
      "2   3.0  ...  No Deposit    241.0  NaN     0.0  Transient    108.8        0.0   \n",
      "3   2.0  ...  No Deposit    240.0  NaN     0.0  Transient     98.0        0.0   \n",
      "4   3.0  ...  No Deposit    241.0  NaN     0.0  Transient    108.8        0.0   \n",
      "\n",
      "   Special       stat      statD  \n",
      "0      0.0  Check-Out   7/8/2015  \n",
      "1      1.0   Canceled  5/19/2015  \n",
      "2      1.0   Canceled  6/19/2015  \n",
      "3      0.0  Check-Out   7/6/2015  \n",
      "4      1.0  Check-Out   7/6/2015  \n",
      "\n",
      "[5 rows x 32 columns]\n"
     ]
    }
   ],
   "source": [
    "import pandas as pd\n",
    "import matplotlib.pyplot as plt\n",
    "import matplotlib.colors as mcolors\n",
    "import numpy as np\n",
    "import calendar\n",
    "\n",
    "\n",
    "\n",
    "file_path = r'C:\\Users\\danie\\OneDrive\\Documents\\פרוייקט גמר בניתוח נתונים\\reservationsN.csv'\n",
    "data = pd.read_csv(file_path)\n",
    "\n",
    "\n",
    "\n",
    "print(data.head())\n"
   ]
  },
  {
   "cell_type": "markdown",
   "id": "e24992b6",
   "metadata": {},
   "source": [
    "**פונקציה המקבלת את החודש השנה וסוג השייט הרצוי מהמהשתמש**"
   ]
  },
  {
   "cell_type": "code",
   "execution_count": 9,
   "id": "2d81d4c6",
   "metadata": {},
   "outputs": [],
   "source": [
    "\n",
    "def get_user_input():\n",
    "    while True:\n",
    "        try:\n",
    "            month = int(input(\"Enter the month (1-12): \"))\n",
    "            if month < 1 or month > 12:\n",
    "                raise ValueError(\"Month must be between 1 and 12\")\n",
    "            year = int(input(\"Enter the year: \"))\n",
    "            cruise_type = input(\"Enter the cruise type: \")\n",
    "            return month, year, cruise_type\n",
    "        except ValueError as e:\n",
    "            print(f\"Error: {e}. Please enter a valid month (1-12).\")\n"
   ]
  },
  {
   "cell_type": "markdown",
   "id": "707beb47",
   "metadata": {},
   "source": [
    "**פונקציה שמסננת את הדאטה שיהיה טיידי**"
   ]
  },
  {
   "cell_type": "code",
   "execution_count": 10,
   "id": "4040d868",
   "metadata": {},
   "outputs": [],
   "source": [
    "\n",
    "\n",
    "def filter_data(data, month, year, cruise_type):\n",
    "    data['statD'] = pd.to_datetime(data['statD'], errors='coerce')\n",
    "    filtered_data = data[(data['statD'].dt.month == month) &\n",
    "                         (data['statD'].dt.year == year) &\n",
    "                         (data['cruise'] == cruise_type)]\n",
    "    return filtered_data\n"
   ]
  },
  {
   "cell_type": "markdown",
   "id": "a471f7a7",
   "metadata": {},
   "source": [
    "**בקטע הזה קיימות שלוש פונקציות עיקריות אחת שיוצרת את מראה היומן השניה מציירת את הימים על הגרף והשלישית מוסיפה את הצבעים המבוקשים**"
   ]
  },
  {
   "cell_type": "code",
   "execution_count": 11,
   "id": "8811388d",
   "metadata": {},
   "outputs": [],
   "source": [
    "\n",
    "def create_calendar_plot(filtered_data, month, year):\n",
    "    days_in_month = calendar.monthrange(year, month)[1]\n",
    "    occupancy_data = np.zeros(days_in_month)\n",
    "    \n",
    "    for day in range(1, days_in_month + 1):\n",
    "        day_data = filtered_data[filtered_data['statD'].dt.day == day]\n",
    "        if not day_data.empty:\n",
    "            occupancy_data[day - 1] = day_data['TTT'].values[0]  # assuming 'TTT' is the occupancy column\n",
    "    \n",
    "    fig, ax = plt.subplots(figsize=(12, 8))\n",
    "    ax.set_title(f\"Occupancy for {calendar.month_name[month]} {year}\", fontsize=16)\n",
    "    \n",
    "    cmap = plt.cm.get_cmap('YlGn')\n",
    "    norm = mcolors.Normalize(vmin=0, vmax=100)\n",
    "    \n",
    "    start_day_of_week = calendar.monthrange(year, month)[0]\n",
    "    \n",
    "    \n",
    "  \n",
    "    for day in range(1, days_in_month + 1):\n",
    "        row = (start_day_of_week + day - 1) // 7 + 1\n",
    "        col = (start_day_of_week + day - 1) % 7\n",
    "        color = cmap(norm(occupancy_data[day - 1]))\n",
    "        ax.add_patch(plt.Rectangle((col, -row), 1, 1, edgecolor='black', facecolor=color))\n",
    "        ax.text(col + 0.5, -row + 0.5, str(day),\n",
    "                horizontalalignment='center', verticalalignment='center')\n",
    "    \n",
    "    \n",
    "    ax.set_xlim(0, 7)\n",
    "    ax.set_ylim(-((start_day_of_week + days_in_month + 6) // 7), 0)\n",
    "    ax.axis('off')\n",
    "    \n",
    "    \n",
    "    sm = plt.cm.ScalarMappable(cmap=cmap, norm=norm)\n",
    "    sm.set_array([])\n",
    "    cbar = plt.colorbar(sm, orientation='vertical', ax=ax, pad=0.02)\n",
    "    cbar.set_label('Occupancy (%)')\n",
    "    \n",
    "    plt.show()"
   ]
  },
  {
   "cell_type": "markdown",
   "id": "4a1a57e7",
   "metadata": {},
   "source": [
    "**פה אנו מקבלים את המידע מהמשתמש מסננים את הדאטה ויוצרים את הפלוט במימושים של הפונקציות שיצרנו**"
   ]
  },
  {
   "cell_type": "code",
   "execution_count": 12,
   "id": "aaa33d57",
   "metadata": {
    "scrolled": true
   },
   "outputs": [
    {
     "name": "stdout",
     "output_type": "stream",
     "text": [
      "Enter the month (1-12): 7\n",
      "Enter the year: 2015\n",
      "Enter the cruise type: Deluxe\n"
     ]
    },
    {
     "name": "stderr",
     "output_type": "stream",
     "text": [
      "C:\\Users\\danie\\AppData\\Local\\Temp\\ipykernel_3564\\3047414888.py:14: MatplotlibDeprecationWarning: The get_cmap function was deprecated in Matplotlib 3.7 and will be removed two minor releases later. Use ``matplotlib.colormaps[name]`` or ``matplotlib.colormaps.get_cmap(obj)`` instead.\n",
      "  cmap = plt.cm.get_cmap('YlGn')\n"
     ]
    },
    {
     "data": {
      "image/png": "[encoded data removed]",
      "text/plain": [
       "<Figure size 1200x800 with 2 Axes>"
      ]
     },
     "metadata": {},
     "output_type": "display_data"
    }
   ],
   "source": [
    "\n",
    "month, year, cruise_type = get_user_input()\n",
    "\n",
    "\n",
    "filtered_data = filter_data(data, month, year, cruise_type)\n",
    "\n",
    "\n",
    "create_calendar_plot(filtered_data, month, year)"
   ]
  }
 ],
 "metadata": {
  "kernelspec": {
   "display_name": "Python 3 (ipykernel)",
   "language": "python",
   "name": "python3"
  },
  "language_info": {
   "codemirror_mode": {
    "name": "ipython",
    "version": 3
   },
   "file_extension": ".py",
   "mimetype": "text/x-python",
   "name": "python",
   "nbconvert_exporter": "python",
   "pygments_lexer": "ipython3",
   "version": "3.11.7"
  }
 },
 "nbformat": 4,
 "nbformat_minor": 5
}
